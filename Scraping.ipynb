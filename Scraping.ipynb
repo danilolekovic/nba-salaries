{
 "cells": [
  {
   "cell_type": "code",
   "execution_count": 3,
   "metadata": {},
   "outputs": [],
   "source": [
    "import pandas as pd\n",
    "import requests\n",
    "from bs4 import BeautifulSoup"
   ]
  },
  {
   "cell_type": "code",
   "execution_count": 4,
   "metadata": {},
   "outputs": [],
   "source": [
    "contract_url = 'https://www.basketball-reference.com/contracts/players.html'"
   ]
  },
  {
   "cell_type": "code",
   "execution_count": 9,
   "metadata": {},
   "outputs": [],
   "source": [
    "def scrape_contract_data():\n",
    "    r = requests.get(contract_url)\n",
    "    soup = BeautifulSoup(r.text, 'html.parser')\n",
    "\n",
    "    for header in soup.find_all(class_='over_header'):\n",
    "        header.decompose()\n",
    "\n",
    "    for thead in soup.find_all(class_='thead'):\n",
    "        thead.decompose()\n",
    "\n",
    "    player_links = []\n",
    "        \n",
    "    for a in soup.find_all('td', {'data-stat': 'player'}):\n",
    "        a_tag = a.find('a')\n",
    "        player_links.append(a_tag.get('href'))\n",
    "\n",
    "    table = soup.find('table', id='player-contracts')\n",
    "    df = pd.read_html(str(table))[0]\n",
    "\n",
    "    df['Link'] = player_links\n",
    "    df['Link'] = df['Link'].apply(lambda x: 'https://www.basketball-reference.com' + x)\n",
    "\n",
    "    return df\n",
    "\n",
    "#scrape_contract_data().to_csv('contracts.csv')"
   ]
  },
  {
   "cell_type": "code",
   "execution_count": 14,
   "metadata": {},
   "outputs": [],
   "source": [
    "def scrape_player_data():\n",
    "    contracts = pd.read_csv('contracts.csv', header=0)\n",
    "    player_links = contracts['Link']\n",
    "    index = 0\n",
    "    dfs = []\n",
    "\n",
    "    for link in player_links:\n",
    "        r = requests.get(link)\n",
    "        soup = BeautifulSoup(r.text, 'html.parser')\n",
    "\n",
    "        for header in soup.find_all(class_='over_header'):\n",
    "            header.decompose()\n",
    "        \n",
    "        for thead in soup.find_all(class_='thead'):\n",
    "            thead.decompose()\n",
    "\n",
    "        for tfoot in soup.find_all('tfoot'):\n",
    "            tfoot.decompose()\n",
    "\n",
    "        name = soup.find('h1', {'itemprop': 'name'}).text\n",
    "\n",
    "        if soup.find('table', id='totals'):\n",
    "            table = soup.find('table', id='totals')\n",
    "\n",
    "            df = pd.read_html(str(table))[0]\n",
    "            df['Player'] = name\n",
    "            dfs.append(df)\n",
    "        else:\n",
    "            print(\"Could not load table for\", name)\n",
    "        \n",
    "        index += 1\n",
    "        print(index, \"of\", len(player_links))\n",
    "    \n",
    "    return dfs\n",
    "\n",
    "#dfs = scrape_player_data()\n",
    "\n",
    "#df = pd.concat(dfs)\n",
    "#df.to_csv('player_data.csv')"
   ]
  }
 ],
 "metadata": {
  "interpreter": {
   "hash": "ae77cee08a405d5a35a2a715fe9ca5db87c693d27e7db0b272246dc1c5f64789"
  },
  "kernelspec": {
   "display_name": "Python 3.8.8 ('base')",
   "language": "python",
   "name": "python3"
  },
  "language_info": {
   "codemirror_mode": {
    "name": "ipython",
    "version": 3
   },
   "file_extension": ".py",
   "mimetype": "text/x-python",
   "name": "python",
   "nbconvert_exporter": "python",
   "pygments_lexer": "ipython3",
   "version": "3.8.8"
  },
  "orig_nbformat": 4
 },
 "nbformat": 4,
 "nbformat_minor": 2
}
